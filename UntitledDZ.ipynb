{
 "cells": [
  {
   "cell_type": "code",
   "execution_count": 149,
   "metadata": {},
   "outputs": [],
   "source": [
    "import pandas as pd\n",
    "import numpy as np\n",
    "import matplotlib.pyplot as plt"
   ]
  },
  {
   "cell_type": "code",
   "execution_count": 152,
   "metadata": {},
   "outputs": [
    {
     "data": {
      "text/html": [
       "<div>\n",
       "<style scoped>\n",
       "    .dataframe tbody tr th:only-of-type {\n",
       "        vertical-align: middle;\n",
       "    }\n",
       "\n",
       "    .dataframe tbody tr th {\n",
       "        vertical-align: top;\n",
       "    }\n",
       "\n",
       "    .dataframe thead th {\n",
       "        text-align: right;\n",
       "    }\n",
       "</style>\n",
       "<table border=\"1\" class=\"dataframe\">\n",
       "  <thead>\n",
       "    <tr style=\"text-align: right;\">\n",
       "      <th></th>\n",
       "      <th>Surgery</th>\n",
       "      <th>Age</th>\n",
       "      <th>Temp</th>\n",
       "      <th>Heart</th>\n",
       "      <th>Breath</th>\n",
       "      <th>Capillary</th>\n",
       "      <th>Reflux</th>\n",
       "      <th>Kal</th>\n",
       "    </tr>\n",
       "  </thead>\n",
       "  <tbody>\n",
       "    <tr>\n",
       "      <th>count</th>\n",
       "      <td>299.000000</td>\n",
       "      <td>300.000000</td>\n",
       "      <td>240.000000</td>\n",
       "      <td>276.000000</td>\n",
       "      <td>242.000000</td>\n",
       "      <td>268.000000</td>\n",
       "      <td>53.000000</td>\n",
       "      <td>198.000000</td>\n",
       "    </tr>\n",
       "    <tr>\n",
       "      <th>mean</th>\n",
       "      <td>1.397993</td>\n",
       "      <td>1.640000</td>\n",
       "      <td>38.167917</td>\n",
       "      <td>71.913043</td>\n",
       "      <td>30.417355</td>\n",
       "      <td>1.305970</td>\n",
       "      <td>4.707547</td>\n",
       "      <td>2.757576</td>\n",
       "    </tr>\n",
       "    <tr>\n",
       "      <th>std</th>\n",
       "      <td>0.490305</td>\n",
       "      <td>2.173972</td>\n",
       "      <td>0.732289</td>\n",
       "      <td>28.630557</td>\n",
       "      <td>17.642231</td>\n",
       "      <td>0.477629</td>\n",
       "      <td>1.982311</td>\n",
       "      <td>1.251119</td>\n",
       "    </tr>\n",
       "    <tr>\n",
       "      <th>min</th>\n",
       "      <td>1.000000</td>\n",
       "      <td>1.000000</td>\n",
       "      <td>35.400000</td>\n",
       "      <td>30.000000</td>\n",
       "      <td>8.000000</td>\n",
       "      <td>1.000000</td>\n",
       "      <td>1.000000</td>\n",
       "      <td>1.000000</td>\n",
       "    </tr>\n",
       "    <tr>\n",
       "      <th>25%</th>\n",
       "      <td>1.000000</td>\n",
       "      <td>1.000000</td>\n",
       "      <td>37.800000</td>\n",
       "      <td>48.000000</td>\n",
       "      <td>18.500000</td>\n",
       "      <td>1.000000</td>\n",
       "      <td>3.000000</td>\n",
       "      <td>1.000000</td>\n",
       "    </tr>\n",
       "    <tr>\n",
       "      <th>50%</th>\n",
       "      <td>1.000000</td>\n",
       "      <td>1.000000</td>\n",
       "      <td>38.200000</td>\n",
       "      <td>64.000000</td>\n",
       "      <td>24.500000</td>\n",
       "      <td>1.000000</td>\n",
       "      <td>5.000000</td>\n",
       "      <td>3.000000</td>\n",
       "    </tr>\n",
       "    <tr>\n",
       "      <th>75%</th>\n",
       "      <td>2.000000</td>\n",
       "      <td>1.000000</td>\n",
       "      <td>38.500000</td>\n",
       "      <td>88.000000</td>\n",
       "      <td>36.000000</td>\n",
       "      <td>2.000000</td>\n",
       "      <td>6.500000</td>\n",
       "      <td>4.000000</td>\n",
       "    </tr>\n",
       "    <tr>\n",
       "      <th>max</th>\n",
       "      <td>2.000000</td>\n",
       "      <td>9.000000</td>\n",
       "      <td>40.800000</td>\n",
       "      <td>184.000000</td>\n",
       "      <td>96.000000</td>\n",
       "      <td>3.000000</td>\n",
       "      <td>7.500000</td>\n",
       "      <td>4.000000</td>\n",
       "    </tr>\n",
       "  </tbody>\n",
       "</table>\n",
       "</div>"
      ],
      "text/plain": [
       "          Surgery         Age        Temp       Heart      Breath   Capillary  \\\n",
       "count  299.000000  300.000000  240.000000  276.000000  242.000000  268.000000   \n",
       "mean     1.397993    1.640000   38.167917   71.913043   30.417355    1.305970   \n",
       "std      0.490305    2.173972    0.732289   28.630557   17.642231    0.477629   \n",
       "min      1.000000    1.000000   35.400000   30.000000    8.000000    1.000000   \n",
       "25%      1.000000    1.000000   37.800000   48.000000   18.500000    1.000000   \n",
       "50%      1.000000    1.000000   38.200000   64.000000   24.500000    1.000000   \n",
       "75%      2.000000    1.000000   38.500000   88.000000   36.000000    2.000000   \n",
       "max      2.000000    9.000000   40.800000  184.000000   96.000000    3.000000   \n",
       "\n",
       "          Reflux         Kal  \n",
       "count  53.000000  198.000000  \n",
       "mean    4.707547    2.757576  \n",
       "std     1.982311    1.251119  \n",
       "min     1.000000    1.000000  \n",
       "25%     3.000000    1.000000  \n",
       "50%     5.000000    3.000000  \n",
       "75%     6.500000    4.000000  \n",
       "max     7.500000    4.000000  "
      ]
     },
     "execution_count": 152,
     "metadata": {},
     "output_type": "execute_result"
    }
   ],
   "source": [
    "# Подготовка данных для выполнения задания\n",
    "df = pd.read_csv('horse_data.csv', names =('1', '2', '3', '4', '5', '6', '7', '8', '9', '10', '11',\n",
    "       '12', '13', '14', '15', '16', '17', '18', '19', '20', '21',\n",
    "       '22', '23', '24', '25', '26', '27', '28' ))\n",
    "\n",
    "# Выбор 8 столбцов для дальнейшего анализа и переименование их названий\n",
    "new_df = df.loc[:, ['1', '2', '4', '5', '6', '10', '16', '17']]\n",
    "new_df.rename(columns={'1':'Surgery', '2': 'Age', '4': 'Temp', '5': 'Heart', '6': 'Breath', '10': 'Capillary', '16':'Reflux', '17':'Kal'}, inplace = True)\n",
    "\n",
    "# Меняю \"?\" на NaN\n",
    "df_nan = new_df.replace(to_replace = '?', value = np.NaN)\n",
    "\n",
    "# Меняю тип данных у не числовых столбцов на float\n",
    "df_nan['Surgery'] = df_nan.Surgery.astype('float')\n",
    "df_nan['Temp'] = df_nan.Temp.astype('float')\n",
    "df_nan['Heart'] = df_nan.Heart.astype('float')\n",
    "df_nan['Breath'] = df_nan.Breath.astype('float')\n",
    "df_nan['Capillary'] = df_nan.Capillary.astype('float')\n",
    "df_nan['Reflux'] = df_nan.Reflux.astype('float')\n",
    "df_nan['Kal'] = df_nan.Kal.astype('float')\n",
    "\n",
    "# Задание 1. Базовые метрики\n",
    "df_nan.describe()"
   ]
  },
  {
   "cell_type": "code",
   "execution_count": 6,
   "metadata": {},
   "outputs": [
    {
     "name": "stdout",
     "output_type": "stream",
     "text": [
      "[ 2.  1. nan]\n"
     ]
    }
   ],
   "source": [
    "# Проверка столбца Surgery на наличие выбросов\n",
    "# Выбросов нет\n",
    "print(df_nan['Surgery'].unique())"
   ]
  },
  {
   "cell_type": "code",
   "execution_count": 7,
   "metadata": {},
   "outputs": [
    {
     "name": "stdout",
     "output_type": "stream",
     "text": [
      "[1 9]\n"
     ]
    }
   ],
   "source": [
    "# Проверка столбца Age на наличие выбросов\n",
    "# Переменная должна принимать значения 1 или 2, а фактически - 1 и 9. Предположу,что при вводе вместо 2 вводили 9. \n",
    "# Для дальнейшего анализа считаю, что 1-взрослая лощадь, 9-молодая лошадь\n",
    "print(df_nan['Age'].unique())"
   ]
  },
  {
   "cell_type": "code",
   "execution_count": 15,
   "metadata": {},
   "outputs": [
    {
     "name": "stdout",
     "output_type": "stream",
     "text": [
      "36.74999999999999 38.85\n"
     ]
    }
   ],
   "source": [
    "# Проверка столбца Temp на наличие выбросов\n",
    "# Фактические значения колеблются от 35.4 до 40.8. Часть значение выходит за рамки расчетных. \n",
    "# Оставляю все значения, которые выходят за рамки, т.к.считаю,что они могут быть у больных лошадей.\n",
    "q1_Temp = df_nan.Temp.quantile(0.25)\n",
    "q3_Temp = df_nan.Temp.quantile(0.75)\n",
    "iqr_Temp = q3_Temp - q1_Temp\n",
    "lower_Temp = q1_Temp - (1.5*iqr_Temp)\n",
    "upper_Temp = q1_Temp + (1.5*iqr_Temp)\n",
    "print(lower_Temp, upper_Temp)"
   ]
  },
  {
   "cell_type": "code",
   "execution_count": 27,
   "metadata": {},
   "outputs": [
    {
     "name": "stdout",
     "output_type": "stream",
     "text": [
      "46.949999999999996 89.05000000000001\n"
     ]
    }
   ],
   "source": [
    "# Проверка столбца Heart на наличие выбросов\n",
    "# Фактические значения колеблются от 30 до 184. Часть значение выходит за рамки расчетных, причем их достаточно много. \n",
    "# Однако повышенные значения (до примерно 180) возможны при физических нагрузках и сердечных заболеваниях. \n",
    "# Поэтому все значения оставляю\n",
    "q1_Heart = df_nan.Heart.quantile(0.25)\n",
    "q3_Heart = df_nan.Heart.quantile(0.75)\n",
    "iqr_Heart = q3_Heart - q1_Heart\n",
    "lower_Heart = q1_Heart - (1.5*iqr_Temp)\n",
    "upper_Heart = q3_Heart + (1.5*iqr_Temp)\n",
    "print(lower_Heart, upper_Heart)"
   ]
  },
  {
   "cell_type": "code",
   "execution_count": 33,
   "metadata": {},
   "outputs": [],
   "source": [
    "# Проверка столбца Breath на наличие выбросов\n",
    "# Фактические значения колеблются от 8 до 96. При норме 8-10, высокие значения до 100 свидетельствуют о шоковом состоянии лошади.\n",
    "# Поэтому все значения оставляю"
   ]
  },
  {
   "cell_type": "code",
   "execution_count": 38,
   "metadata": {},
   "outputs": [
    {
     "name": "stdout",
     "output_type": "stream",
     "text": [
      "[ 2.  1. nan  3.]\n"
     ]
    }
   ],
   "source": [
    "# Проверка столбца Capillary на наличие выбросов\n",
    "# Фактические значения принимают вполне реальные цифры, поэтому оставыляю все\n",
    "print(df_nan['Capillary'].unique())"
   ]
  },
  {
   "cell_type": "code",
   "execution_count": 40,
   "metadata": {},
   "outputs": [],
   "source": [
    "# Проверка столбца Reflux на наличие выбросов\n",
    "# Фактические значения (1-7.5) укладываются в допустимую шкалу (0-14), поэтому оставляю все"
   ]
  },
  {
   "cell_type": "code",
   "execution_count": 23,
   "metadata": {},
   "outputs": [
    {
     "name": "stdout",
     "output_type": "stream",
     "text": [
      "[ 3.  4.  1. nan  2.]\n"
     ]
    }
   ],
   "source": [
    "# Проверка столбца Kal на наличие выбросов\n",
    "# Выбросов нет\n",
    "print(df_nan['Kal'].unique())"
   ]
  },
  {
   "cell_type": "code",
   "execution_count": null,
   "metadata": {},
   "outputs": [],
   "source": [
    "# Задание 3. Работа с пустыми значениями"
   ]
  },
  {
   "cell_type": "code",
   "execution_count": 37,
   "metadata": {
    "scrolled": false
   },
   "outputs": [
    {
     "data": {
      "text/plain": [
       "Surgery        1\n",
       "Age            0\n",
       "Temp          60\n",
       "Heart         24\n",
       "Breath        58\n",
       "Capillary     32\n",
       "Reflux       247\n",
       "Kal          102\n",
       "dtype: int64"
      ]
     },
     "execution_count": 37,
     "metadata": {},
     "output_type": "execute_result"
    }
   ],
   "source": [
    "# Проверяем количество пропусков в столбцах\n",
    "df_nan.isnull().sum()"
   ]
  },
  {
   "cell_type": "code",
   "execution_count": 154,
   "metadata": {
    "scrolled": true
   },
   "outputs": [
    {
     "data": {
      "text/html": [
       "<div>\n",
       "<style scoped>\n",
       "    .dataframe tbody tr th:only-of-type {\n",
       "        vertical-align: middle;\n",
       "    }\n",
       "\n",
       "    .dataframe tbody tr th {\n",
       "        vertical-align: top;\n",
       "    }\n",
       "\n",
       "    .dataframe thead th {\n",
       "        text-align: right;\n",
       "    }\n",
       "</style>\n",
       "<table border=\"1\" class=\"dataframe\">\n",
       "  <thead>\n",
       "    <tr style=\"text-align: right;\">\n",
       "      <th></th>\n",
       "      <th>Surgery</th>\n",
       "      <th>Age</th>\n",
       "      <th>Temp</th>\n",
       "      <th>Heart</th>\n",
       "      <th>Breath</th>\n",
       "      <th>Capillary</th>\n",
       "      <th>Reflux</th>\n",
       "      <th>Kal</th>\n",
       "    </tr>\n",
       "  </thead>\n",
       "  <tbody>\n",
       "    <tr>\n",
       "      <th>count</th>\n",
       "      <td>300.000000</td>\n",
       "      <td>300.000000</td>\n",
       "      <td>300.000000</td>\n",
       "      <td>300.000000</td>\n",
       "      <td>300.000000</td>\n",
       "      <td>300.000000</td>\n",
       "      <td>300.000000</td>\n",
       "      <td>300.00000</td>\n",
       "    </tr>\n",
       "    <tr>\n",
       "      <th>mean</th>\n",
       "      <td>1.396667</td>\n",
       "      <td>1.640000</td>\n",
       "      <td>38.174333</td>\n",
       "      <td>71.406667</td>\n",
       "      <td>29.900000</td>\n",
       "      <td>1.273333</td>\n",
       "      <td>4.910000</td>\n",
       "      <td>3.18000</td>\n",
       "    </tr>\n",
       "    <tr>\n",
       "      <th>std</th>\n",
       "      <td>0.490023</td>\n",
       "      <td>2.173972</td>\n",
       "      <td>0.654831</td>\n",
       "      <td>28.256374</td>\n",
       "      <td>16.176596</td>\n",
       "      <td>0.461156</td>\n",
       "      <td>1.083149</td>\n",
       "      <td>1.17425</td>\n",
       "    </tr>\n",
       "    <tr>\n",
       "      <th>min</th>\n",
       "      <td>1.000000</td>\n",
       "      <td>1.000000</td>\n",
       "      <td>35.400000</td>\n",
       "      <td>30.000000</td>\n",
       "      <td>8.000000</td>\n",
       "      <td>1.000000</td>\n",
       "      <td>1.000000</td>\n",
       "      <td>1.00000</td>\n",
       "    </tr>\n",
       "    <tr>\n",
       "      <th>25%</th>\n",
       "      <td>1.000000</td>\n",
       "      <td>1.000000</td>\n",
       "      <td>37.900000</td>\n",
       "      <td>48.000000</td>\n",
       "      <td>20.000000</td>\n",
       "      <td>1.000000</td>\n",
       "      <td>4.500000</td>\n",
       "      <td>3.00000</td>\n",
       "    </tr>\n",
       "    <tr>\n",
       "      <th>50%</th>\n",
       "      <td>1.000000</td>\n",
       "      <td>1.000000</td>\n",
       "      <td>38.200000</td>\n",
       "      <td>60.000000</td>\n",
       "      <td>24.000000</td>\n",
       "      <td>1.000000</td>\n",
       "      <td>4.500000</td>\n",
       "      <td>4.00000</td>\n",
       "    </tr>\n",
       "    <tr>\n",
       "      <th>75%</th>\n",
       "      <td>2.000000</td>\n",
       "      <td>1.000000</td>\n",
       "      <td>38.500000</td>\n",
       "      <td>88.000000</td>\n",
       "      <td>36.000000</td>\n",
       "      <td>2.000000</td>\n",
       "      <td>5.000000</td>\n",
       "      <td>4.00000</td>\n",
       "    </tr>\n",
       "    <tr>\n",
       "      <th>max</th>\n",
       "      <td>2.000000</td>\n",
       "      <td>9.000000</td>\n",
       "      <td>40.800000</td>\n",
       "      <td>184.000000</td>\n",
       "      <td>96.000000</td>\n",
       "      <td>3.000000</td>\n",
       "      <td>7.500000</td>\n",
       "      <td>4.00000</td>\n",
       "    </tr>\n",
       "  </tbody>\n",
       "</table>\n",
       "</div>"
      ],
      "text/plain": [
       "          Surgery         Age        Temp       Heart      Breath   Capillary  \\\n",
       "count  300.000000  300.000000  300.000000  300.000000  300.000000  300.000000   \n",
       "mean     1.396667    1.640000   38.174333   71.406667   29.900000    1.273333   \n",
       "std      0.490023    2.173972    0.654831   28.256374   16.176596    0.461156   \n",
       "min      1.000000    1.000000   35.400000   30.000000    8.000000    1.000000   \n",
       "25%      1.000000    1.000000   37.900000   48.000000   20.000000    1.000000   \n",
       "50%      1.000000    1.000000   38.200000   60.000000   24.000000    1.000000   \n",
       "75%      2.000000    1.000000   38.500000   88.000000   36.000000    2.000000   \n",
       "max      2.000000    9.000000   40.800000  184.000000   96.000000    3.000000   \n",
       "\n",
       "           Reflux        Kal  \n",
       "count  300.000000  300.00000  \n",
       "mean     4.910000    3.18000  \n",
       "std      1.083149    1.17425  \n",
       "min      1.000000    1.00000  \n",
       "25%      4.500000    3.00000  \n",
       "50%      4.500000    4.00000  \n",
       "75%      5.000000    4.00000  \n",
       "max      7.500000    4.00000  "
      ]
     },
     "execution_count": 154,
     "metadata": {},
     "output_type": "execute_result"
    }
   ],
   "source": [
    "# Столбец Surgery имеет 1 пропуск. Заменю его модой (наиболее частым значением)\n",
    "df_nan.Surgery.fillna(df_nan.Surgery.mode()[0], inplace = True)\n",
    "\n",
    "# Столбец Temp имеет 60 пропуск. Заменю их на медиану.\n",
    "df_nan.Temp.fillna(df_nan.Temp.median(), inplace = True)\n",
    "\n",
    "# Столбец Capillary имеет 32 пропуска. Заменю их на модой\n",
    "df_nan.Capillary.fillna(df_nan.Capillary.mode()[0], inplace = True)\n",
    "\n",
    "# Столбец Heart имеет 24 пропуска. Заменю их на медиану c группировкой по Age и Capillary\n",
    "df_nan.Heart.fillna(df_nan.groupby(['Capillary', 'Age']).Heart.transform('median'), inplace = True)\n",
    "df_nan.groupby(['Age', 'Capillary']).Heart.median()\n",
    "\n",
    "# Столбец Breath имеет 58 пропусков. Заменю их на медиану c группировкой по Age и Capillary\n",
    "df_nan.Breath.fillna(df_nan.groupby(['Capillary', 'Age']).Breath.transform('median'), inplace = True)\n",
    "df_nan.groupby(['Age', 'Capillary']).Breath.median()\n",
    "\n",
    "# Столбец Kal имеет 102 пропуска. Заменю их на модой\n",
    "df_nan.Kal.fillna(df_nan.Kal.mode()[0], inplace = True)\n",
    "\n",
    "# Столбец Rerfux имеет 247 пропусков. Заменю их на медиану c группировкой по Kal\n",
    "df_nan.Reflux.fillna(df_nan.groupby('Kal').Reflux.transform('median'), inplace = True)\n",
    "df_nan.groupby('Kal').Reflux.median()\n",
    "\n",
    "df_nan.describe()"
   ]
  }
 ],
 "metadata": {
  "kernelspec": {
   "display_name": "Python 3",
   "language": "python",
   "name": "python3"
  },
  "language_info": {
   "codemirror_mode": {
    "name": "ipython",
    "version": 3
   },
   "file_extension": ".py",
   "mimetype": "text/x-python",
   "name": "python",
   "nbconvert_exporter": "python",
   "pygments_lexer": "ipython3",
   "version": "3.8.3"
  }
 },
 "nbformat": 4,
 "nbformat_minor": 4
}
